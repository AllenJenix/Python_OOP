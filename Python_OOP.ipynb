{
 "cells": [
  {
   "cell_type": "markdown",
   "id": "1073b619",
   "metadata": {},
   "source": [
    "동호는 내년에 초등학교를 입학한다. 그래서 동호 어머니는 수학 선행 학습을 위해 쉽게 푸는 문제를 동호에게 주었다.\n",
    "\n",
    "이 문제는 다음과 같다. 1을 한 번, 2를 두 번, 3을 세 번, 이런 식으로 1 2 2 3 3 3 4 4 4 4 5 .. 이러한 수열을 만들고 어느 일정한 구간을 주면 그 구간의 합을 구하는 것이다.\n",
    "\n",
    "하지만 동호는 현재 더 어려운 문제를 푸느라 바쁘기에 우리가 동호를 도와주자.\n",
    "\n",
    "* object : 수열, 구간, 구간합"
   ]
  },
  {
   "cell_type": "code",
   "execution_count": 29,
   "id": "2672d789",
   "metadata": {},
   "outputs": [
    {
     "name": "stdout",
     "output_type": "stream",
     "text": [
      "1 1000\n",
      "29820\n"
     ]
    }
   ],
   "source": [
    "class Sequence:\n",
    "    def __init__(self):\n",
    "        self.sequence = []\n",
    "        \n",
    "    def make_sequence(self, start, destination):\n",
    "        # 객체 수열 초기화\n",
    "        self.sequence = []\n",
    "        # 생성 수열 계산용 문자열\n",
    "        temp = \"\"\n",
    "        for i in list(range(1, destination + 1)):\n",
    "            temp += (str(i) + \" \") * i\n",
    "            if len(temp.rstrip().split(\" \")) >= destination:\n",
    "                break\n",
    "        \n",
    "        # 계산된 수열 리스트화(1부터 n까지)\n",
    "        temp = temp.rstrip().split(\" \")\n",
    "        # 범위에 맞게 수열 슬라이싱\n",
    "        temp = temp[start - 1:destination]\n",
    "        # 수열 리스트 내 원소 계산 가능하게 정수형으로 변환\n",
    "        temp = list(map(int, temp))\n",
    "        \n",
    "        self.sequence = temp\n",
    "            \n",
    "\n",
    "start, destination = map(int, input().split())\n",
    "\n",
    "seque = Sequence()\n",
    "seque.make_sequence(start, destination)\n",
    "print(sum(seque.sequence))"
   ]
  },
  {
   "cell_type": "markdown",
   "id": "d4deaa34",
   "metadata": {},
   "source": [
    "상근이는 퀴즈쇼의 PD이다. 이 퀴즈쇼의 참가자는 총 8개 문제를 푼다. 참가자는 각 문제를 풀고, 그 문제를 풀었을 때 얻는 점수는 문제를 풀기 시작한 시간부터 경과한 시간과 난이도로 결정한다. 문제를 풀지 못한 경우에는 0점을 받는다. 참가자의 총 점수는 가장 높은 점수 5개의 합이다. \n",
    "\n",
    "상근이는 잠시 여자친구와 전화 통화를 하느라 참가자의 점수를 계산하지 않고 있었다. 참가자의 8개 문제 점수가 주어졌을 때, 총 점수를 구하는 프로그램을 작성하시오.\n",
    "* Object : 문제, 점수, 점수합\n"
   ]
  },
  {
   "cell_type": "code",
   "execution_count": 25,
   "id": "b5c75de7",
   "metadata": {},
   "outputs": [
    {
     "name": "stdout",
     "output_type": "stream",
     "text": [
      "261\n",
      "3 4 5 6 8\n"
     ]
    }
   ],
   "source": [
    "class ScoreTopFive:\n",
    "    '''5개 이상의 자료가 들어 있는 iterable을 받아서 최대값 5개만'''\n",
    "    def __init__(self, iterable):\n",
    "        self.iterable = tuple(iterable)\n",
    "        \n",
    "    def top_five_score(self):\n",
    "        score_list = list(self.iterable)\n",
    "        score_list.sort(reverse=True)\n",
    "        \n",
    "        return sum(score_list[0:5])\n",
    "    \n",
    "    def top_five_question(self):\n",
    "        score_list = list(self.iterable)\n",
    "        score_list.sort(reverse=True)\n",
    "        \n",
    "        score_nums = []\n",
    "        for i in score_list[0:5]:\n",
    "            score_nums.append(self.iterable.index(i) + 1)\n",
    "            \n",
    "        score_nums.sort()\n",
    "        score_nums = \" \".join(list(map(str, score_nums)))\n",
    "        \n",
    "        return score_nums\n",
    "\n",
    "\n",
    "score = []\n",
    "\n",
    "for i in range(8):\n",
    "    score.append(int(input()))\n",
    "\n",
    "Score = ScoreTopFive(score)\n",
    "print(Score.top_five_score())\n",
    "print(Score.top_five_question())"
   ]
  },
  {
   "cell_type": "markdown",
   "id": "bc88caaf",
   "metadata": {},
   "source": [
    "배열을 정렬하는 것은 쉽다. 수가 주어지면, 그 수의 각 자리수를 내림차순으로 정렬해보자."
   ]
  },
  {
   "cell_type": "code",
   "execution_count": 31,
   "id": "77d24138",
   "metadata": {},
   "outputs": [
    {
     "name": "stdout",
     "output_type": "stream",
     "text": [
      "2143\n",
      "4321\n"
     ]
    }
   ],
   "source": [
    "class SortNum:\n",
    "    def __init__(self, number):\n",
    "        self.number = number\n",
    "        self.__reverse_sort()\n",
    "        \n",
    "    # private method\n",
    "    def __reverse_sort(self):\n",
    "        number = list(str(self.number))\n",
    "        number.sort(reverse=True)\n",
    "        self.number = \"\".join(number)\n",
    "        \n",
    "\n",
    "number = int(input())\n",
    "sortNum = SortNum(number)\n",
    "print(sortNum.number)"
   ]
  },
  {
   "cell_type": "markdown",
   "id": "8a8f5243",
   "metadata": {},
   "source": [
    "양수 A가 N의 진짜 약수가 되려면, N이 A의 배수이고, A가 1과 N이 아니어야 한다. 어떤 수 N의 진짜 약수가 모두 주어질 때, N을 구하는 프로그램을 작성하시오.\n",
    "\n"
   ]
  },
  {
   "cell_type": "code",
   "execution_count": 6,
   "id": "3d2dd397",
   "metadata": {},
   "outputs": [
    {
     "name": "stdout",
     "output_type": "stream",
     "text": [
      "1\n",
      "12\n",
      "[12]\n",
      "144\n"
     ]
    }
   ],
   "source": [
    "class Divisors:\n",
    "    def __init__(self, divisors, length):\n",
    "        divisors.sort()\n",
    "        self.divisors = tuple(divisors)\n",
    "        self.length = length\n",
    "        \n",
    "    def original_num(self):\n",
    "        if self.length % 2 == 1:\n",
    "            # 약수 개수가 홀수\n",
    "            result = self.divisors[(self.length - 1) // 2] ** 2\n",
    "            return result\n",
    "        \n",
    "        elif self.length % 2 == 0:\n",
    "            # 약수 개수가 짝수\n",
    "            result = self.divisors[0] * self.divisors[-1]\n",
    "            return result\n",
    "        \n",
    "\n",
    "divisors_length = int(input())\n",
    "\n",
    "if divisors_length == 1:\n",
    "    divisors = [int(input())]\n",
    "else:\n",
    "    divisors = list(map(int, input().split()))\n",
    "\n",
    "divisors = Divisors(divisors, divisors_length)\n",
    "print(divisors.original_num())"
   ]
  },
  {
   "cell_type": "markdown",
   "id": "a61aa212",
   "metadata": {},
   "source": [
    "왕비를 피해 일곱 난쟁이들과 함께 평화롭게 생활하고 있던 백설공주에게 위기가 찾아왔다. 일과를 마치고 돌아온 난쟁이가 일곱 명이 아닌 아홉 명이었던 것이다.\n",
    "\n",
    "아홉 명의 난쟁이는 모두 자신이 \"백설 공주와 일곱 난쟁이\"의 주인공이라고 주장했다. 뛰어난 수학적 직관력을 가지고 있던 백설공주는, 다행스럽게도 일곱 난쟁이의 키의 합이 100이 됨을 기억해 냈다.\n",
    "\n",
    "아홉 난쟁이의 키가 주어졌을 때, 백설공주를 도와 일곱 난쟁이를 찾는 프로그램을 작성하시오.\n",
    "* object : 난쟁이, 키, 총 합이 100\n"
   ]
  },
  {
   "cell_type": "code",
   "execution_count": 7,
   "id": "07c0f81b",
   "metadata": {},
   "outputs": [
    {
     "ename": "SyntaxError",
     "evalue": "invalid syntax (1989512908.py, line 4)",
     "output_type": "error",
     "traceback": [
      "\u001b[1;36m  Input \u001b[1;32mIn [7]\u001b[1;36m\u001b[0m\n\u001b[1;33m    self.\u001b[0m\n\u001b[1;37m         ^\u001b[0m\n\u001b[1;31mSyntaxError\u001b[0m\u001b[1;31m:\u001b[0m invalid syntax\n"
     ]
    }
   ],
   "source": [
    "class Hobbit:\n",
    "    def __init__(self, heights):\n",
    "        self.heigths = tuple(heights)\n",
    "        \n",
    "    def __Hundred(self):\n",
    "        temp = list(self.heights)\n",
    "        temp.sort()\n",
    "        \n",
    "        "
   ]
  },
  {
   "cell_type": "markdown",
   "id": "f6778448",
   "metadata": {},
   "source": [
    "배열 A가 주어졌을 때, N번째 큰 값을 출력하는 프로그램을 작성하시오.\n",
    "\n",
    "배열 A의 크기는 항상 10이고, 자연수만 가지고 있다. N은 항상 3이다.\n",
    "* object : 배열, 큰 값"
   ]
  },
  {
   "cell_type": "code",
   "execution_count": 15,
   "id": "a8899287",
   "metadata": {},
   "outputs": [
    {
     "name": "stdout",
     "output_type": "stream",
     "text": [
      "1 2 3 4 5 6 7 8 9 1000\n",
      "8\n",
      "338 304 619 95 343 496 489 116 98 127\n",
      "489\n",
      "931 240 986 894 826 640 965 833 136 138\n",
      "931\n",
      "940 955 364 188 133 254 501 122 768 408\n",
      "768\n"
     ]
    }
   ],
   "source": [
    "class HighValue:\n",
    "    def __init__(self, iterable):\n",
    "        self.iterable = tuple(iterable)\n",
    "        \n",
    "    def high_value(self):\n",
    "        temp = list(self.iterable)\n",
    "        temp.sort()\n",
    "        return temp[-3]\n",
    "    \n",
    "    \n",
    "test_case = int(input())\n",
    "\n",
    "for i in range(test_case):\n",
    "    hv = HighValue(list(map(int, input().split())))\n",
    "    print(hv.high_value())\n",
    "    \n",
    "        "
   ]
  },
  {
   "cell_type": "markdown",
   "id": "1d0e69a0",
   "metadata": {},
   "source": [
    "나코더 기장 재민이는 동아리 회식을 준비하기 위해서 장부를 관리하는 중이다.\n",
    "\n",
    "재현이는 재민이를 도와서 돈을 관리하는 중인데, 애석하게도 항상 정신없는 재현이는 돈을 실수로 잘못 부르는 사고를 치기 일쑤였다.\n",
    "\n",
    "재현이는 잘못된 수를 부를 때마다 0을 외쳐서, 가장 최근에 재민이가 쓴 수를 지우게 시킨다.\n",
    "\n",
    "재민이는 이렇게 모든 수를 받아 적은 후 그 수의 합을 알고 싶어 한다. 재민이를 도와주자!\n",
    "* object : 장부"
   ]
  },
  {
   "cell_type": "code",
   "execution_count": 27,
   "id": "affe6256",
   "metadata": {},
   "outputs": [
    {
     "name": "stdout",
     "output_type": "stream",
     "text": [
      "10\n",
      "1\n",
      "3\n",
      "5\n",
      "4\n",
      "0\n",
      "0\n",
      "7\n",
      "0\n",
      "0\n",
      "6\n"
     ]
    },
    {
     "data": {
      "text/plain": [
       "7"
      ]
     },
     "execution_count": 27,
     "metadata": {},
     "output_type": "execute_result"
    }
   ],
   "source": [
    "class AccountBook:\n",
    "    def __init__(self, array):\n",
    "        self.array = tuple(array)\n",
    "        \n",
    "    def correctAccount(self):\n",
    "        temp = list(self.array)\n",
    "        \n",
    "        for i in self.array:\n",
    "            if i == 0:\n",
    "                pivot = temp.index(i) - 1\n",
    "                del temp[pivot]\n",
    "                del temp[pivot]\n",
    "        return sum(temp)\n",
    "    \n",
    "\n",
    "account_num = int(input())\n",
    "accounts = []\n",
    "\n",
    "for i in range(account_num):\n",
    "    accounts.append(int(input()))\n",
    "\n",
    "accounts = AccountBook(accounts)\n",
    "print(accounts.correctAccount())\n"
   ]
  },
  {
   "cell_type": "markdown",
   "id": "fb1ae7ff",
   "metadata": {},
   "source": [
    "한상덕은 이번에 중덕 고등학교에 새로 부임한 교장 선생님이다. 교장 선생님으로서 첫 번째 일은 각 반의 수학 시험 성적의 통계를 내는 일이다.\n",
    "\n",
    "중덕 고등학교 각 반의 학생들의 수학 시험 성적이 주어졌을 때, 최대 점수, 최소 점수, 점수 차이를 구하는 프로그램을 작성하시오.\n",
    "* object : 반, 시험 성적, 최대 점수, 최소 점수, 점수 차이"
   ]
  },
  {
   "cell_type": "code",
   "execution_count": 40,
   "id": "ec43fb60",
   "metadata": {},
   "outputs": [
    {
     "name": "stdout",
     "output_type": "stream",
     "text": [
      "2\n",
      "5 30 25 76 23 78\n",
      "Class 1\n",
      "Max 78, Min 23, Largest gap 46\n",
      "6 25 50 70 99 70 90\n",
      "Class 2\n",
      "Max 99, Min 25, Largest gap 25\n"
     ]
    }
   ],
   "source": [
    "class Class:\n",
    "    class_num = 0\n",
    "    def __init__(self, scores):\n",
    "        self.scores = scores[]\n",
    "        self.max = 0\n",
    "        self.min = 0\n",
    "        self.largest_gap = 0\n",
    "        Class.class_num += 1\n",
    "    \n",
    "    def print_stats(self):\n",
    "        self.__calculate()\n",
    "        print(\"Class {}\".format(self.class_num))\n",
    "        print(\"Max {}, Min {}, Largest gap {}\".format(self.max,\n",
    "                                                     self.min,\n",
    "                                                     self.largest_gap))\n",
    "        \n",
    "    def __calculate(self):\n",
    "        self.scores.sort(reverse=True)\n",
    "        self.max = self.scores[0]\n",
    "        self.min = self.scores[-1]\n",
    "        \n",
    "        self.largest_gap = [0] * len(self.scores)\n",
    "        \n",
    "        for i in range(len(self.scores) - 1):\n",
    "            self.largest_gap[i] = abs(self.scores[i] - self.scores[i + 1])\n",
    "        \n",
    "        self.largest_gap = max(self.largest_gap)\n",
    "    \n",
    "    \n",
    "for i in range(int(input())):\n",
    "    scores = list(map(int, input().split()))\n",
    "    class_score = Class(scores)\n",
    "    class_score.print_stats()\n"
   ]
  },
  {
   "cell_type": "markdown",
   "id": "931145a6",
   "metadata": {},
   "source": [
    "피보나치 수는 0과 1로 시작한다. 0번째 피보나치 수는 0이고, 1번째 피보나치 수는 1이다. 그 다음 2번째 부터는 바로 앞 두 피보나치 수의 합이 된다.\n",
    "\n",
    "이를 식으로 써보면 Fn = Fn-1 + Fn-2 (n ≥ 2)가 된다.\n",
    "\n",
    "n=17일때 까지 피보나치 수를 써보면 다음과 같다.\n",
    "\n",
    "0, 1, 1, 2, 3, 5, 8, 13, 21, 34, 55, 89, 144, 233, 377, 610, 987, 1597\n",
    "\n",
    "n이 주어졌을 때, n번째 피보나치 수를 구하는 프로그램을 작성하시오.\n"
   ]
  },
  {
   "cell_type": "code",
   "execution_count": null,
   "id": "373a0d06",
   "metadata": {},
   "outputs": [],
   "source": [
    "class Fibonacci:\n",
    "    def __init__(self, n):\n",
    "        self.n = n\n",
    "        self.result = self.__calculate()\n",
    "        \n",
    "    def __calculate(self):\n",
    "        from collections import deque\n",
    "        \n",
    "        deq = deque([0, 1])\n",
    "        for i in range(self.n):\n",
    "            deq.append(sum(deq))\n",
    "            deq.popleft()\n",
    "        \n",
    "        return deq[0]\n",
    "        \n",
    "\n",
    "fibonacci = Fibonacci(int(input()))\n",
    "print(fibonacci.result)"
   ]
  },
  {
   "cell_type": "markdown",
   "id": "16fabbb8",
   "metadata": {},
   "source": [
    "준규가 가지고 있는 동전은 총 N종류이고, 각각의 동전을 매우 많이 가지고 있다.\n",
    "\n",
    "동전을 적절히 사용해서 그 가치의 합을 K로 만들려고 한다. 이때 필요한 동전 개수의 최솟값을 구하는 프로그램을 작성하시오."
   ]
  },
  {
   "cell_type": "code",
   "execution_count": 76,
   "id": "4d4842f1",
   "metadata": {},
   "outputs": [
    {
     "name": "stdout",
     "output_type": "stream",
     "text": [
      "10 4200\n",
      "1\n",
      "5\n",
      "10\n",
      "50\n",
      "100\n",
      "500\n",
      "1000\n",
      "5000\n",
      "10000\n",
      "50000\n",
      "deque([50000, 1, 5, 10, 50, 100, 500, 1000, 5000, 10000])\n",
      "0\n",
      "deque([10000, 50000, 1, 5, 10, 50, 100, 500, 1000, 5000])\n",
      "0\n",
      "deque([5000, 10000, 50000, 1, 5, 10, 50, 100, 500, 1000])\n",
      "0\n",
      "deque([1000, 5000, 10000, 50000, 1, 5, 10, 50, 100, 500])\n",
      "4\n",
      "deque([500, 1000, 5000, 10000, 50000, 1, 5, 10, 50, 100])\n",
      "0\n",
      "deque([100, 500, 1000, 5000, 10000, 50000, 1, 5, 10, 50])\n",
      "2\n",
      "deque([50, 100, 500, 1000, 5000, 10000, 50000, 1, 5, 10])\n",
      "0\n",
      "deque([10, 50, 100, 500, 1000, 5000, 10000, 50000, 1, 5])\n",
      "0\n",
      "deque([5, 10, 50, 100, 500, 1000, 5000, 10000, 50000, 1])\n",
      "0\n",
      "deque([1, 5, 10, 50, 100, 500, 1000, 5000, 10000, 50000])\n",
      "0\n",
      "6\n"
     ]
    }
   ],
   "source": [
    "from collections import deque\n",
    "\n",
    "\n",
    "class Coin:\n",
    "    def __init__(self, value, kinds_of_coins):\n",
    "        self.value = value\n",
    "        self.coins = kinds_of_coins\n",
    "\n",
    "    def how_much_coins(self):\n",
    "        count = 0\n",
    "        temp = self.value\n",
    "        high = self.coins\n",
    "\n",
    "        for i in range(len(self.coins)):\n",
    "            high.rotate(1)\n",
    "            solution = temp // high[0]\n",
    "            temp -= high[0] * solution\n",
    "            count += solution\n",
    "        return count\n",
    "\n",
    "\n",
    "deq = deque()\n",
    "coins_num, value = map(int, input().split())\n",
    "\n",
    "for i in range(coins_num):\n",
    "    deq.append(int(input()))\n",
    "coin = Coin(value, deq)\n",
    "print(coin.how_much_coins())\n"
   ]
  },
  {
   "cell_type": "markdown",
   "id": "3aaece86",
   "metadata": {},
   "source": [
    "두 정수 A와 B를 입력받은 다음, A+B를 출력하는 프로그램을 작성하시오."
   ]
  },
  {
   "cell_type": "code",
   "execution_count": 78,
   "id": "300a6ea6",
   "metadata": {},
   "outputs": [
    {
     "name": "stdout",
     "output_type": "stream",
     "text": [
      "1\n",
      "1,1\n",
      "2\n"
     ]
    }
   ],
   "source": [
    "class Addition:\n",
    "    def __init__(self, a, b):\n",
    "        self.a = a\n",
    "        self.b = b\n",
    "        self.result = 0\n",
    "        self.__calculate()\n",
    "    \n",
    "    def __calculate(self):\n",
    "        self.result = self.a + self.b\n",
    "        \n",
    "\n",
    "test_case = int(input())\n",
    "\n",
    "for i in range(test_case):\n",
    "    a, b = map(int, input().split(\",\"))\n",
    "    addition = Addition(a, b)\n",
    "    print(addition.result)\n",
    "    "
   ]
  },
  {
   "cell_type": "markdown",
   "id": "7b10de14",
   "metadata": {},
   "source": [
    "KMP 알고리즘이 KMP인 이유는 이를 만든 사람의 성이 Knuth, Morris, Prett이기 때문이다. 이렇게 알고리즘에는 발견한 사람의 성을 따서 이름을 붙이는 경우가 많다.\n",
    "\n",
    "또 다른 예로, 유명한 비대칭 암호화 알고리즘 RSA는 이를 만든 사람의 이름이 Rivest, Shamir, Adleman이다.\n",
    "\n",
    "사람들은 이렇게 사람 성이 들어간 알고리즘을 두 가지 형태로 부른다.\n",
    "\n",
    "첫 번째는 성을 모두 쓰고, 이를 하이픈(-)으로 이어 붙인 것이다. 예를 들면, Knuth-Morris-Pratt이다. 이것을 긴 형태라고 부른다.\n",
    "두 번째로 짧은 형태는 만든 사람의 성의 첫 글자만 따서 부르는 것이다. 예를 들면, KMP이다.\n",
    "동혁이는 매일매일 자신이 한 일을 모두 메모장에 적어놓는다. 잠을 자기 전에, 오늘 하루 무엇을 했는지 되새겨 보는 것으로 하루를 마감한다.\n",
    "\n",
    "하루는 이 메모를 보던 중, 지금까지 긴 형태와 짧은 형태를 섞어서 적어 놓은 것을 발견했다.\n",
    "\n",
    "이렇게 긴 형태로 하루 일을 기록하다가는 메모장 가격이 부담되어 파산될 것이 뻔하기 때문에, 앞으로는 짧은 형태로 기록하려고 한다.\n",
    "\n",
    "긴 형태의 알고리즘 이름이 주어졌을 때, 이를 짧은 형태로 바꾸어 출력하는 프로그램을 작성하시오."
   ]
  },
  {
   "cell_type": "code",
   "execution_count": 80,
   "id": "a64a3588",
   "metadata": {},
   "outputs": [
    {
     "name": "stdout",
     "output_type": "stream",
     "text": [
      "Knuth-Morris-Pratt\n",
      "KMP\n"
     ]
    }
   ],
   "source": [
    "class  Initialism:\n",
    "    def __init__(self, string):\n",
    "        self.string = string\n",
    "    \n",
    "    def transInitial(self):\n",
    "        from collections import deque\n",
    "        \n",
    "        temp = deque(self.string.split(\"-\"))\n",
    "        result = \"\"\n",
    "        for i in temp:\n",
    "            result += i[0]\n",
    "        return result\n",
    "    \n",
    "\n",
    "string = input()\n",
    "initial = Initialism(string)\n",
    "\n",
    "print(initial.transInitial())"
   ]
  },
  {
   "cell_type": "markdown",
   "id": "01dae244",
   "metadata": {},
   "source": [
    "어떤 수 X가 주어졌을 때, X의 모든 자리수가 역순이 된 수를 얻을 수 있다. Rev(X)를 X의 모든 자리수를 역순으로 만드는 함수라고 하자. 예를 들어, X=123일 때, Rev(X) = 321이다. 그리고, X=100일 때, Rev(X) = 1이다.\n",
    "\n",
    "두 양의 정수 X와 Y가 주어졌을 때, Rev(Rev(X) + Rev(Y))를 구하는 프로그램을 작성하시오"
   ]
  },
  {
   "cell_type": "code",
   "execution_count": 96,
   "id": "9317f417",
   "metadata": {},
   "outputs": [
    {
     "name": "stdout",
     "output_type": "stream",
     "text": [
      "5 5\n",
      "1\n"
     ]
    }
   ],
   "source": [
    "class Reverse:\n",
    "    def __init__(self):\n",
    "        pass\n",
    "    \n",
    "    def rev(self, num):\n",
    "        num = list(str(num))\n",
    "        num.reverse()\n",
    "        num = int(\"\".join(num))\n",
    "        \n",
    "        return num\n",
    "        \n",
    "\n",
    "fst_num, sec_num = map(int, input().split())\n",
    "\n",
    "rev = Reverse()\n",
    "print(rev.rev(rev.rev(fst_num) + rev.rev(sec_num)))\n"
   ]
  },
  {
   "cell_type": "markdown",
   "id": "ee1b409e",
   "metadata": {},
   "source": [
    "알파벳 대소문자로 된 단어가 주어지면, 이 단어에서 가장 많이 사용된 알파벳이 무엇인지 알아내는 프로그램을 작성하시오. 단, 대문자와 소문자를 구분하지 않는다."
   ]
  },
  {
   "cell_type": "code",
   "execution_count": 172,
   "id": "2aeeac5c",
   "metadata": {},
   "outputs": [
    {
     "name": "stdout",
     "output_type": "stream",
     "text": [
      "aabbcccdd\n",
      "C\n"
     ]
    }
   ],
   "source": [
    "class Capital:\n",
    "    def __init__(self, string):\n",
    "        self.string = string\n",
    "        self.cnt = {}\n",
    "        self.cnt_values = []\n",
    "        self.__preprocess()\n",
    "        \n",
    "    def __preprocess(self):\n",
    "        from collections import deque\n",
    "        from collections import Counter\n",
    "        \n",
    "        deq_str = deque(self.string.upper()) # 문자열 리스트화\n",
    "        self.cnt = Counter(deq_str) # 각 알파벳 개수 딕셔너리화\n",
    "        \n",
    "        self.cnt_values = list(self.cnt.values()) # 개수만 추출\n",
    "        self.cnt_values.sort(reverse=True) # 내림차순 정렬\n",
    "        \n",
    "    def high_freq(self):\n",
    "        if self.cnt_values.count(self.cnt_values[0]) >= 2:\n",
    "            return \"?\"\n",
    "        else:\n",
    "            for k, v in self.cnt.items():\n",
    "                if v == self.cnt_values[0]:\n",
    "                    return k\n",
    "        \n",
    "string = input()\n",
    "capital = Capital(string)\n",
    "print(capital.high_freq())"
   ]
  },
  {
   "cell_type": "markdown",
   "id": "66d00ffd",
   "metadata": {},
   "source": [
    "N부터 M까지의 수들을 종이에 적었을 때 종이에 적힌 0들을 세는 프로그램을 작성하라.\n",
    "\n",
    "예를 들어, N, M이 각각 0, 10일 때 0을 세면 0에 하나, 10에 하나가 있으므로 답은 2이다.\n",
    "\n",
    "object : 시작점, 끝점, 0 개수\n",
    "count 함수는 시간복잡도가 O(n). Counter collectios이용."
   ]
  },
  {
   "cell_type": "code",
   "execution_count": 7,
   "id": "157a9c4b",
   "metadata": {},
   "outputs": [
    {
     "name": "stdout",
     "output_type": "stream",
     "text": [
      "1\n",
      "1 4\n",
      "0\n"
     ]
    }
   ],
   "source": [
    "class Zero:\n",
    "    def __init__(self, start, destination):\n",
    "        self.start = start\n",
    "        self.des = destination\n",
    "        self.zero = 0\n",
    "        \n",
    "    def count_zero(self):\n",
    "        from collections import Counter\n",
    "        \n",
    "        range_ = range(start, destination + 1)\n",
    "        string = \"\".join(map(str, range(self.start, self.des + 1)))\n",
    "        counter = Counter(string)\n",
    "        for k, v in counter.items():\n",
    "            if k == \"0\":\n",
    "                self.zero = v\n",
    "        \n",
    "\n",
    "test_case = int(input())\n",
    "\n",
    "for i in range(test_case):\n",
    "    start, destination = map(int, input().split())\n",
    "    zero = Zero(start, destination)\n",
    "    zero.count_zero()\n",
    "    print(zero.zero)\n",
    "    "
   ]
  },
  {
   "cell_type": "markdown",
   "id": "2cd7dba8",
   "metadata": {},
   "source": [
    "↑클래스를 설계했을 때 내부 함수를 만들어서 생성자에서 미리 초기화 되게끔 설계하면 안좋은 설계인가?\n",
    "\n",
    "ex) 위의 count_zero함수에서 self.zero = v로 설정하는 부분을 constructor에서 self.count_zero()로 호출해서 self.zero를 즉시 초기화시키는 방법은 안좋은가?"
   ]
  },
  {
   "cell_type": "code",
   "execution_count": null,
   "id": "d09ae795",
   "metadata": {},
   "outputs": [],
   "source": []
  },
  {
   "cell_type": "markdown",
   "id": "6fb61bfc",
   "metadata": {},
   "source": [
    "ROT13은 카이사르 암호의 일종으로 영어 알파벳을 13글자씩 밀어서 만든다.\n",
    "\n",
    "예를 들어, \"Baekjoon Online Judge\"를 ROT13으로 암호화하면 \"Onrxwbba Bayvar Whqtr\"가 된다. ROT13으로 암호화한 내용을 원래 내용으로 바꾸려면 암호화한 문자열을 다시 ROT13하면 된다. 앞에서 암호화한 문자열 \"Onrxwbba Bayvar Whqtr\"에 다시 ROT13을 적용하면 \"Baekjoon Online Judge\"가 된다.\n",
    "\n",
    "ROT13은 알파벳 대문자와 소문자에만 적용할 수 있다. 알파벳이 아닌 글자는 원래 글자 그대로 남아 있어야 한다. 예를 들어, \"One is 1\"을 ROT13으로 암호화하면 \"Bar vf 1\"이 된다.\n",
    "\n",
    "문자열이 주어졌을 때, \"ROT13\"으로 암호화한 다음 출력하는 프로그램을 작성하시오."
   ]
  },
  {
   "cell_type": "code",
   "execution_count": 48,
   "id": "5b2639b8",
   "metadata": {},
   "outputs": [
    {
     "name": "stdout",
     "output_type": "stream",
     "text": [
      "One is 1\n",
      "Bar vf 1\n"
     ]
    }
   ],
   "source": [
    "from string import ascii_lowercase\n",
    "from collections import deque\n",
    "\n",
    "class ROT:\n",
    "    def __init__(self):\n",
    "        self.uppercase = deque(list(str(ascii_lowercase).upper()))\n",
    "        self.lowercase = deque(list(ascii_lowercase))\n",
    "        self.string = string\n",
    "        \n",
    "    def rot13(self, string):\n",
    "        str_original = deque(list(string))\n",
    "        str_rot13 = deque()\n",
    "        \n",
    "        uppercase_rot13 = deque(list(str(ascii_lowercase).upper()))\n",
    "        lowercase_rot13 = deque(list(ascii_lowercase))\n",
    "        uppercase_rot13.rotate(-13)\n",
    "        lowercase_rot13.rotate(-13)\n",
    "        \n",
    "        for i in str_original:\n",
    "            if i in self.uppercase:\n",
    "                index = self.uppercase.index(i)\n",
    "                str_rot13.append(uppercase_rot13[index])\n",
    "            elif i in self.lowercase:\n",
    "                index = self.lowercase.index(i)\n",
    "                str_rot13.append(lowercase_rot13[index])\n",
    "            else:\n",
    "                str_rot13.append(i)\n",
    "                \n",
    "        return \"\".join(str_rot13)\n",
    "    \n",
    "\n",
    "string = input()\n",
    "rot = ROT()\n",
    "print(rot.rot13(string))\n"
   ]
  },
  {
   "cell_type": "markdown",
   "id": "dae0ef1e",
   "metadata": {},
   "source": [
    "N!에서 뒤에서부터 처음 0이 아닌 숫자가 나올 때까지 0의 개수를 구하는 프로그램을 작성하시오."
   ]
  },
  {
   "cell_type": "code",
   "execution_count": 63,
   "id": "b8caa0c1",
   "metadata": {},
   "outputs": [
    {
     "name": "stdout",
     "output_type": "stream",
     "text": [
      "3\n",
      "['6']\n",
      "0\n"
     ]
    }
   ],
   "source": [
    "import math\n",
    "\n",
    "class FactorialZero:\n",
    "    def __init__(self, N):\n",
    "        self.n = N\n",
    "        \n",
    "    def __factorial(self):\n",
    "        return math.factorial(self.n)\n",
    "    \n",
    "    def non_zero(self):\n",
    "        facto = list(str(self.__factorial()))\n",
    "        facto.reverse()\n",
    "        \n",
    "        count = 0\n",
    "        for i in facto:\n",
    "            if i == \"0\":\n",
    "                count += 1\n",
    "                continue\n",
    "            elif i != \"0\":\n",
    "                break\n",
    "        return count\n",
    "    \n",
    "\n",
    "num = int(input())\n",
    "factorial = FactorialZero(num)\n",
    "print(factorial.non_zero())\n"
   ]
  },
  {
   "cell_type": "markdown",
   "id": "5c915b9c",
   "metadata": {},
   "source": [
    "N개의 정수가 주어진다. 이때, 최솟값과 최댓값을 구하는 프로그램을 작성하시오."
   ]
  },
  {
   "cell_type": "code",
   "execution_count": 69,
   "id": "3d34dead",
   "metadata": {},
   "outputs": [
    {
     "name": "stdout",
     "output_type": "stream",
     "text": [
      "5\n",
      "20 10 35 30 7\n",
      "7 35\n"
     ]
    }
   ],
   "source": [
    "class MinMax:\n",
    "    def __init__(self, array):\n",
    "        self.array = array\n",
    "        \n",
    "    def min_(self):\n",
    "        return min(self.array)\n",
    "    \n",
    "    def max_(self):\n",
    "        return max(self.array)\n",
    "\n",
    "\n",
    "n = int(input())\n",
    "nums = list(map(int, input().split()))\n",
    "\n",
    "minmax = MinMax(nums)\n",
    "print(minmax.min_(), minmax.max_())"
   ]
  },
  {
   "cell_type": "markdown",
   "id": "a51f3261",
   "metadata": {},
   "source": [
    "당신은 길을 가다가 이상한 쪽지를 발견했다. 그 쪽지에는 암호가 적혀 있었는데, 똑똑한 당신은 암호가 뒤집으면 해독된다는 것을 발견했다.\n",
    "\n",
    "이 암호를 해독하는 프로그램을 작성하시오.\n",
    "* object : 암호(string)"
   ]
  },
  {
   "cell_type": "code",
   "execution_count": 2,
   "id": "5ce203c8",
   "metadata": {},
   "outputs": [
    {
     "name": "stdout",
     "output_type": "stream",
     "text": [
      "!edoc doog a tahW\n",
      "What a good code!\n",
      "noitacitsufbo\n",
      "obfustication\n",
      "erafraw enirambus detcirtsernu yraurbeF fo tsrif eht no nigeb ot dnetni eW\n",
      "We intend to begin on the first of February unrestricted submarine warfare\n",
      "END\n"
     ]
    }
   ],
   "source": [
    "class ReverseString:\n",
    "    def __init__(self, string):\n",
    "        self.string = string\n",
    "        \n",
    "    def reverse(self):\n",
    "        str_list = list(self.string)\n",
    "        str_list.reverse()\n",
    "        return \"\".join(str_list)\n",
    "\n",
    "\n",
    "while True:\n",
    "    string = input()\n",
    "    if string == \"END\":\n",
    "        break\n",
    "    else:\n",
    "        rev_str = ReverseString(string)\n",
    "        print(rev_str.reverse())\n"
   ]
  },
  {
   "cell_type": "markdown",
   "id": "09243517",
   "metadata": {},
   "source": [
    "셀프 넘버는 1949년 인도 수학자 D.R. Kaprekar가 이름 붙였다. 양의 정수 n에 대해서 d(n)을 n과 n의 각 자리수를 더하는 함수라고 정의하자. 예를 들어, d(75) = 75+7+5 = 87이다.\n",
    "\n",
    "양의 정수 n이 주어졌을 때, 이 수를 시작해서 n, d(n), d(d(n)), d(d(d(n))), ...과 같은 무한 수열을 만들 수 있다. \n",
    "\n",
    "예를 들어, 33으로 시작한다면 다음 수는 33 + 3 + 3 = 39이고, 그 다음 수는 39 + 3 + 9 = 51, 다음 수는 51 + 5 + 1 = 57이다. 이런식으로 다음과 같은 수열을 만들 수 있다.\n",
    "\n",
    "33, 39, 51, 57, 69, 84, 96, 111, 114, 120, 123, 129, 141, ...\n",
    "\n",
    "n을 d(n)의 생성자라고 한다. 위의 수열에서 33은 39의 생성자이고, 39는 51의 생성자, 51은 57의 생성자이다. 생성자가 한 개보다 많은 경우도 있다. 예를 들어, 101은 생성자가 2개(91과 100) 있다. \n",
    "\n",
    "생성자가 없는 숫자를 셀프 넘버라고 한다. 100보다 작은 셀프 넘버는 총 13개가 있다. 1, 3, 5, 7, 9, 20, 31, 42, 53, 64, 75, 86, 97\n",
    "\n",
    "10000보다 작거나 같은 셀프 넘버를 한 줄에 하나씩 출력하는 프로그램을 작성하시오.\n",
    "\n",
    "* object : 양의 정수 n, d(n), 생성자(n)"
   ]
  },
  {
   "cell_type": "code",
   "execution_count": null,
   "id": "f7ece7f9",
   "metadata": {},
   "outputs": [],
   "source": [
    "class SelfNumber(self):\n",
    "    def __init__(self):\n",
    "        "
   ]
  },
  {
   "cell_type": "markdown",
   "id": "aeba1152",
   "metadata": {},
   "source": [
    "d(n) = n(a + 10b + 100c + ...) + a + b + c + ...\n",
    "\n",
    " = 2a + 11b + 101c + ...\n"
   ]
  },
  {
   "cell_type": "markdown",
   "id": "6916170e",
   "metadata": {},
   "source": [
    "정수 n개가 주어졌을 때, n개의 합을 구하는 함수를 작성하시오.\n",
    "\n",
    "작성해야 하는 함수는 다음과 같다.\n",
    "\n",
    "* Python 2, Python 3, PyPy, PyPy3: def solve(a: list) -> int\n",
    "   * a: 합을 구해야 하는 정수 n개가 저장되어 있는 리스트 (0 ≤ a[i] ≤1,000,000, 1 ≤ n ≤ 3,000,000)\n",
    "   * 리턴값: a에 포함되어 있는 정수 n개의 합 (정수)"
   ]
  },
  {
   "cell_type": "code",
   "execution_count": null,
   "id": "351e4f05",
   "metadata": {},
   "outputs": [],
   "source": [
    "def solve(a: list):\n",
    "    return sum(a)"
   ]
  },
  {
   "cell_type": "markdown",
   "id": "4c1f9d09",
   "metadata": {},
   "source": [
    "ICPC Bangkok Regional에 참가하기 위해 수완나품 국제공항에 막 도착한 팀 레드시프트 일행은 눈을 믿을 수 없었다. 공항의 대형 스크린에 올해가 2562년이라고 적혀 있던 것이었다.\n",
    "\n",
    "불교 국가인 태국은 불멸기원(佛滅紀元), 즉 석가모니가 열반한 해를 기준으로 연도를 세는 불기를 사용한다. 반면, 우리나라는 서기 연도를 사용하고 있다. 불기 연도가 주어질 때 이를 서기 연도로 바꿔 주는 프로그램을 작성하시오.\n",
    "\n",
    "* object : 불기"
   ]
  },
  {
   "cell_type": "code",
   "execution_count": 4,
   "id": "1b30f3de",
   "metadata": {},
   "outputs": [
    {
     "name": "stdout",
     "output_type": "stream",
     "text": [
      "2541\n",
      "1998\n"
     ]
    }
   ],
   "source": [
    "class BuddhistCalendar:\n",
    "    gap = 543\n",
    "    def __init__(self, buddhist_date):\n",
    "        self.date = buddhist_date\n",
    "        \n",
    "    def christian_era(self):\n",
    "        return self.date - self.gap\n",
    "    \n",
    "\n",
    "buddhist_date = int(input())\n",
    "bc = BuddhistCalendar(buddhist_date)\n",
    "print(bc.christian_era())\n",
    "    \n",
    "        "
   ]
  },
  {
   "cell_type": "markdown",
   "id": "2bf3409b",
   "metadata": {},
   "source": [
    "동혁이는 오래된 창고를 뒤지다가 낡은 체스판과 피스를 발견했다.\n",
    "\n",
    "체스판의 먼지를 털어내고 걸레로 닦으니 그럭저럭 쓸만한 체스판이 되었다. 하지만, 검정색 피스는 모두 있었으나, 흰색 피스는 개수가 올바르지 않았다.\n",
    "\n",
    "체스는 총 16개의 피스를 사용하며, 킹 1개, 퀸 1개, 룩 2개, 비숍 2개, 나이트 2개, 폰 8개로 구성되어 있다.\n",
    "\n",
    "동혁이가 발견한 흰색 피스의 개수가 주어졌을 때, 몇 개를 더하거나 빼야 올바른 세트가 되는지 구하는 프로그램을 작성하시오.\n",
    "* object : 킹, 퀸, 룩, 비숍, 나이트, 폰"
   ]
  },
  {
   "cell_type": "code",
   "execution_count": 11,
   "id": "54b7c726",
   "metadata": {},
   "outputs": [
    {
     "name": "stdout",
     "output_type": "stream",
     "text": [
      "2 1 2 1 2 1\n",
      "-1 0 0 1 0 7\n"
     ]
    }
   ],
   "source": [
    "class ChessSet:\n",
    "    '''king, queen, rook, bishop, knight, pawn'''\n",
    "    def __init__(self, chess_pieces):\n",
    "        self.pieces = list(map(int, chess_pieces))\n",
    "        self.chess_set = (1, 1, 2, 2, 2, 8)\n",
    "        \n",
    "    def necessary_pieces(self):\n",
    "        temp = map(str, [b - a for a, b in zip(self.pieces, self.chess_set)])\n",
    "        return \" \".join(temp)\n",
    "\n",
    "chess_pieces = input().split()\n",
    "cs = ChessSet(chess_pieces)\n",
    "\n",
    "print(cs.necessary_pieces())\n",
    "            \n",
    "    "
   ]
  },
  {
   "cell_type": "markdown",
   "id": "90b50c88",
   "metadata": {},
   "source": [
    "0보다 크거나 같고, 99보다 작거나 같은 정수가 주어질 때 다음과 같은 연산을 할 수 있다. 먼저 주어진 수가 10보다 작다면 앞에 0을 붙여 두 자리 수로 만들고, 각 자리의 숫자를 더한다. 그 다음, 주어진 수의 가장 오른쪽 자리 수와 앞에서 구한 합의 가장 오른쪽 자리 수를 이어 붙이면 새로운 수를 만들 수 있다. 다음 예를 보자.\n",
    "\n",
    "26부터 시작한다. 2+6 = 8이다. 새로운 수는 68이다. 6+8 = 14이다. 새로운 수는 84이다. 8+4 = 12이다. 새로운 수는 42이다. 4+2 = 6이다. 새로운 수는 26이다.\n",
    "\n",
    "위의 예는 4번만에 원래 수로 돌아올 수 있다. 따라서 26의 사이클의 길이는 4이다.\n",
    "\n",
    "N이 주어졌을 때, N의 사이클의 길이를 구하는 프로그램을 작성하시오.\n",
    "\n",
    "* object : 원래 수, 시작 정수n, 각 자리 숫자의 합, 정수n의 가장 오른쪽 자리 수, 새로운 수, 사이클 길이"
   ]
  },
  {
   "cell_type": "code",
   "execution_count": 32,
   "id": "1bc85097",
   "metadata": {},
   "outputs": [
    {
     "name": "stdout",
     "output_type": "stream",
     "text": [
      "0\n",
      "1\n"
     ]
    }
   ],
   "source": [
    "class CycleNum:\n",
    "    def __init__(self, num):\n",
    "        self.original_num = num\n",
    "        self.num = num\n",
    "        self.sum_each_digit = \"\"\n",
    "        self.rightmost_digit = \"\"\n",
    "        self.new_num = \"\"\n",
    "        self.cycle_length = 0\n",
    "        \n",
    "    def cycle(self):\n",
    "        # 정수 n\n",
    "        start_num = list(str(self.num))\n",
    "        if len(start_num) == 1:\n",
    "            start_num.insert(0, \"0\")\n",
    "        \n",
    "        # 각 자리 숫자의 합\n",
    "        self.sum_each_digit = str(sum(list(map(int, start_num))))\n",
    "        # 정수n의 가장 오른쪽 자리 수\n",
    "        self.rightmost_digit = start_num[-1]\n",
    "        # 새로운 수\n",
    "        self.new_num = int(self.rightmost_digit + self.sum_each_digit[-1])\n",
    "        \n",
    "        self.num = self.new_num\n",
    "        self.cycle_length += 1\n",
    "        \n",
    "\n",
    "start_num = int(input())\n",
    "cn = CycleNum(start_num)\n",
    "while cn.original_num != cn.new_num:\n",
    "    cn.cycle()\n",
    "print(cn.cycle_length)"
   ]
  },
  {
   "cell_type": "markdown",
   "id": "373d1f4e",
   "metadata": {},
   "source": [
    "첫째 줄에는 테스트 케이스의 개수 C가 주어진다.\n",
    "\n",
    "둘째 줄부터 각 테스트 케이스마다 학생의 수 N(1 ≤ N ≤ 1000, N은 정수)이 첫 수로 주어지고, 이어서 N명의 점수가 주어진다. 점수는 0보다 크거나 같고, 100보다 작거나 같은 정수이다.\n",
    "* objcet : 학생 수, 점수, 평균, 평균 이상 비율"
   ]
  },
  {
   "cell_type": "code",
   "execution_count": 52,
   "id": "8843e3af",
   "metadata": {},
   "outputs": [
    {
     "name": "stdout",
     "output_type": "stream",
     "text": [
      "1\n",
      "7 100 95 90 80 70 60 50\n",
      "57.143%\n"
     ]
    }
   ],
   "source": [
    "class ScoreAvgRate:\n",
    "    def __init__(self, scores):\n",
    "        self.peoples = scores[0]\n",
    "        self.scores = scores[1:]\n",
    "        self.avg = 0\n",
    "\n",
    "    def average(self):\n",
    "        self.avg = round(sum(self.scores) / self.peoples, 3)\n",
    "\n",
    "    def over_avg_rate(self):\n",
    "        over_avg_peoples = len([score for score in self.scores if score > self.avg])\n",
    "        percentile_rank = round((over_avg_peoples / self.peoples) * 100, 3)\n",
    "        result = \"{:.3f}%\".format(percentile_rank)\n",
    "\n",
    "        return result\n",
    "\n",
    "\n",
    "test_case = int(input())\n",
    "\n",
    "for i in range(test_case):\n",
    "    scores = list(map(int, input().split()))\n",
    "    sar = ScoreAvgRate(scores)\n",
    "    sar.average()\n",
    "    print(sar.over_avg_rate())\n"
   ]
  },
  {
   "cell_type": "markdown",
   "id": "29e8cec7",
   "metadata": {},
   "source": [
    "영어 대소문자와 공백으로 이루어진 문자열이 주어진다. 이 문자열에는 몇 개의 단어가 있을까? 이를 구하는 프로그램을 작성하시오. 단, 한 단어가 여러 번 등장하면 등장한 횟수만큼 모두 세어야 한다.\n",
    "\n",
    "* object : 문장, 단어"
   ]
  },
  {
   "cell_type": "code",
   "execution_count": 38,
   "id": "af790063",
   "metadata": {},
   "outputs": [
    {
     "name": "stdout",
     "output_type": "stream",
     "text": [
      "\n",
      "[]\n",
      "0\n"
     ]
    }
   ],
   "source": [
    "class Word:\n",
    "    def __init__(self, sentence):\n",
    "        self.sentence = sentence\n",
    "        self.word = []\n",
    "        \n",
    "    def __word(self):\n",
    "        if self.sentence == \"\":\n",
    "            self.word = []\n",
    "        elif self.sentence == \" \":\n",
    "            self.word= []\n",
    "        else:\n",
    "            self.sentence = self.sentence.strip()\n",
    "            self.word = self.sentence.split(\" \")\n",
    "        \n",
    "    def count_word(self):\n",
    "        self.__word()\n",
    "        return len(self.word)\n",
    "    \n",
    "\n",
    "sentence = input()\n",
    "wd = Word(sentence)\n",
    "print(wd.count_word())\n"
   ]
  },
  {
   "cell_type": "markdown",
   "id": "f8e895a2",
   "metadata": {},
   "source": [
    "전화를 걸고 싶은 번호가 있다면, 숫자를 하나를 누른 다음에 금속 핀이 있는 곳 까지 시계방향으로 돌려야 한다. 숫자를 하나 누르면 다이얼이 처음 위치로 돌아가고, 다음 숫자를 누르려면 다이얼을 처음 위치에서 다시 돌려야 한다.\n",
    "\n",
    "숫자 1을 걸려면 총 2초가 필요하다. 1보다 큰 수를 거는데 걸리는 시간은 이보다 더 걸리며, 한 칸 옆에 있는 숫자를 걸기 위해선 1초씩 더 걸린다.\n",
    "\n",
    "상근이의 할머니는 전화 번호를 각 숫자에 해당하는 문자로 외운다. 즉, 어떤 단어를 걸 때, 각 알파벳에 해당하는 숫자를 걸면 된다. 예를 들어, UNUCIC는 868242와 같다.\n",
    "\n",
    "할머니가 외운 단어가 주어졌을 때, 이 전화를 걸기 위해서 필요한 최소 시간을 구하는 프로그램을 작성하시오.\n",
    "* object : 알파벳 문자열, 최소시간"
   ]
  },
  {
   "cell_type": "code",
   "execution_count": 3,
   "id": "3f441d3e",
   "metadata": {},
   "outputs": [
    {
     "name": "stdout",
     "output_type": "stream",
     "text": [
      "WA\n",
      "13\n"
     ]
    }
   ],
   "source": [
    "class DialPhone:\n",
    "    def __init__(self, alphabet_seq):\n",
    "        self.seq = alphabet_seq\n",
    "        self.process_time = 0\n",
    "        \n",
    "    def __dial(self):\n",
    "        dial = {}\n",
    "        dial[\"ABC\"] = 2\n",
    "        dial[\"DEF\"] = 3\n",
    "        dial[\"GHI\"] = 4\n",
    "        dial[\"JKL\"] = 5\n",
    "        dial[\"MNO\"] = 6\n",
    "        dial[\"PQRS\"] = 7\n",
    "        dial[\"TUV\"] = 8\n",
    "        dial[\"WXYZ\"] = 9\n",
    "        \n",
    "        return dial\n",
    "\n",
    "    def seq_to_ph_num(self):\n",
    "        dial = self.__dial()\n",
    "        \n",
    "        for key in dial.keys():\n",
    "            for alph in self.seq:\n",
    "                if alph in key:\n",
    "                    self.process_time += dial[key]\n",
    "                    # 각 다이얼 숫자 +1초만큼 시간이 필요.\n",
    "                    self.process_time += 1\n",
    "                else:\n",
    "                    continue     \n",
    "        return self.process_time\n",
    "\n",
    "\n",
    "sequence = input()\n",
    "dp = DialPhone(sequence)\n",
    "print(dp.seq_to_ph_num())\n"
   ]
  },
  {
   "cell_type": "markdown",
   "id": "1631246e",
   "metadata": {},
   "source": [
    "첫째 줄에 최대 100글자의 단어가 주어진다. 알파벳 소문자와 '-', '='로만 이루어져 있다.\n",
    "\n",
    "단어는 크로아티아 알파벳으로 이루어져 있다. 문제 설명의 표에 나와있는 알파벳은 변경된 형태로 입력된다.\n",
    "* object : 단어, 크로아티아 알파벳, 크로아티아 알파벳 갯수\n"
   ]
  },
  {
   "cell_type": "code",
   "execution_count": 67,
   "id": "5b89e2b7",
   "metadata": {},
   "outputs": [
    {
     "name": "stdout",
     "output_type": "stream",
     "text": [
      "ljes=njak\n",
      "6\n"
     ]
    }
   ],
   "source": [
    "class CroatiaAlphabet:\n",
    "    def __init__(self, sequence):\n",
    "        self.sequence = sequence\n",
    "        self.croatia = []\n",
    "        self.cnt_cro = 0\n",
    "\n",
    "    def __cro(self):\n",
    "        self.croatia = [\"c=\", \"c-\", \"dz=\", \"d-\", \"lj\", \"nj\", \"s=\", \"z=\"]\n",
    "\n",
    "    def count_croatia(self):\n",
    "        self.__cro()\n",
    "        cro_sequence = self.sequence\n",
    "\n",
    "        for i in self.croatia:\n",
    "            cro_sequence = cro_sequence.replace(i, \"0\")\n",
    "        return len(cro_sequence)\n",
    "\n",
    "\n",
    "sequence = input()\n",
    "ca = CroatiaAlphabet(sequence)\n",
    "print(ca.count_croatia())\n"
   ]
  },
  {
   "cell_type": "markdown",
   "id": "1e7627ba",
   "metadata": {},
   "source": [
    "그룹 단어란 단어에 존재하는 모든 문자에 대해서, 각 문자가 연속해서 나타나는 경우만을 말한다. 예를 들면, ccazzzzbb는 c, a, z, b가 모두 연속해서 나타나고, kin도 k, i, n이 연속해서 나타나기 때문에 그룹 단어이지만, aabbbccb는 b가 떨어져서 나타나기 때문에 그룹 단어가 아니다.\n",
    "\n",
    "단어 N개를 입력으로 받아 그룹 단어의 개수를 출력하는 프로그램을 작성하시오.\n",
    "* objcet : 단어, 연속한 문자, 그룹 단어 개수"
   ]
  },
  {
   "cell_type": "code",
   "execution_count": 77,
   "id": "bdefcbe9",
   "metadata": {},
   "outputs": [
    {
     "name": "stdout",
     "output_type": "stream",
     "text": [
      "5\n",
      "ab\n",
      "aa\n",
      "aca\n",
      "ba\n",
      "bb\n",
      "['a', 'b']\n",
      "['a']\n",
      "['a', 'c', 'a']\n",
      "['b', 'a']\n",
      "['b']\n",
      "4\n"
     ]
    }
   ],
   "source": [
    "class GroupWord:\n",
    "    def __init__(self, words):\n",
    "        self.words = words\n",
    "        self.continual_letter = []\n",
    "        self.num_group_word = 0\n",
    "        \n",
    "    def __process(self, word):\n",
    "        word = word\n",
    "        index = 0\n",
    "        self.continual_letter = []\n",
    "        \n",
    "        for letter in word:\n",
    "            try:\n",
    "                if letter == word[index + 1]:\n",
    "                    index += 1\n",
    "                    continue\n",
    "                else:\n",
    "                    self.continual_letter.append(letter)\n",
    "                    index += 1\n",
    "            except IndexError:\n",
    "                self.continual_letter.append(letter)\n",
    "                \n",
    "        if len(self.continual_letter) == len(set(self.continual_letter)):\n",
    "            self.num_group_word += 1\n",
    "        \n",
    "    def group_word(self):\n",
    "        for word in self.words:\n",
    "            self.__process(word)\n",
    "            \n",
    "        return self.num_group_word\n",
    "    \n",
    "    \n",
    "num_of_word = int(input())\n",
    "words = []\n",
    "\n",
    "for i in range(num_of_word):\n",
    "    words.append(input())\n",
    "    \n",
    "gw = GroupWord(words)\n",
    "print(gw.group_word())\n",
    "    "
   ]
  },
  {
   "cell_type": "code",
   "execution_count": null,
   "id": "9f9ee275",
   "metadata": {},
   "outputs": [],
   "source": []
  },
  {
   "cell_type": "code",
   "execution_count": null,
   "id": "880f1cd6",
   "metadata": {},
   "outputs": [],
   "source": []
  }
 ],
 "metadata": {
  "kernelspec": {
   "display_name": "Python 3 (ipykernel)",
   "language": "python",
   "name": "python3"
  },
  "language_info": {
   "codemirror_mode": {
    "name": "ipython",
    "version": 3
   },
   "file_extension": ".py",
   "mimetype": "text/x-python",
   "name": "python",
   "nbconvert_exporter": "python",
   "pygments_lexer": "ipython3",
   "version": "3.10.0"
  }
 },
 "nbformat": 4,
 "nbformat_minor": 5
}
