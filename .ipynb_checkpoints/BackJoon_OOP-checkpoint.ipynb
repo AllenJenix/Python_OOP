{
 "cells": [
  {
   "cell_type": "markdown",
   "id": "1073b619",
   "metadata": {},
   "source": [
    "동호는 내년에 초등학교를 입학한다. 그래서 동호 어머니는 수학 선행 학습을 위해 쉽게 푸는 문제를 동호에게 주었다.\n",
    "\n",
    "이 문제는 다음과 같다. 1을 한 번, 2를 두 번, 3을 세 번, 이런 식으로 1 2 2 3 3 3 4 4 4 4 5 .. 이러한 수열을 만들고 어느 일정한 구간을 주면 그 구간의 합을 구하는 것이다.\n",
    "\n",
    "하지만 동호는 현재 더 어려운 문제를 푸느라 바쁘기에 우리가 동호를 도와주자.\n",
    "\n",
    "* object : 수열, 구간, 구간합"
   ]
  },
  {
   "cell_type": "code",
   "execution_count": 29,
   "id": "2672d789",
   "metadata": {},
   "outputs": [
    {
     "name": "stdout",
     "output_type": "stream",
     "text": [
      "1 1000\n",
      "29820\n"
     ]
    }
   ],
   "source": [
    "class Sequence:\n",
    "    def __init__(self):\n",
    "        self.sequence = []\n",
    "        \n",
    "    def make_sequence(self, start, destination):\n",
    "        # 객체 수열 초기화\n",
    "        self.sequence = []\n",
    "        # 생성 수열 계산용 문자열\n",
    "        temp = \"\"\n",
    "        for i in list(range(1, destination + 1)):\n",
    "            temp += (str(i) + \" \") * i\n",
    "            if len(temp.rstrip().split(\" \")) >= destination:\n",
    "                break\n",
    "        \n",
    "        # 계산된 수열 리스트화(1부터 n까지)\n",
    "        temp = temp.rstrip().split(\" \")\n",
    "        # 범위에 맞게 수열 슬라이싱\n",
    "        temp = temp[start - 1:destination]\n",
    "        # 수열 리스트 내 원소 계산 가능하게 정수형으로 변환\n",
    "        temp = list(map(int, temp))\n",
    "        \n",
    "        self.sequence = temp\n",
    "            \n",
    "\n",
    "start, destination = map(int, input().split())\n",
    "\n",
    "seque = Sequence()\n",
    "seque.make_sequence(start, destination)\n",
    "print(sum(seque.sequence))"
   ]
  },
  {
   "cell_type": "markdown",
   "id": "d4deaa34",
   "metadata": {},
   "source": [
    "상근이는 퀴즈쇼의 PD이다. 이 퀴즈쇼의 참가자는 총 8개 문제를 푼다. 참가자는 각 문제를 풀고, 그 문제를 풀었을 때 얻는 점수는 문제를 풀기 시작한 시간부터 경과한 시간과 난이도로 결정한다. 문제를 풀지 못한 경우에는 0점을 받는다. 참가자의 총 점수는 가장 높은 점수 5개의 합이다. \n",
    "\n",
    "상근이는 잠시 여자친구와 전화 통화를 하느라 참가자의 점수를 계산하지 않고 있었다. 참가자의 8개 문제 점수가 주어졌을 때, 총 점수를 구하는 프로그램을 작성하시오.\n",
    "* Object : 문제, 점수, 점수합\n"
   ]
  },
  {
   "cell_type": "code",
   "execution_count": 25,
   "id": "b5c75de7",
   "metadata": {},
   "outputs": [
    {
     "name": "stdout",
     "output_type": "stream",
     "text": [
      "261\n",
      "3 4 5 6 8\n"
     ]
    }
   ],
   "source": [
    "class ScoreTopFive:\n",
    "    '''5개 이상의 자료가 들어 있는 iterable을 받아서 최대값 5개만'''\n",
    "    def __init__(self, iterable):\n",
    "        self.iterable = tuple(iterable)\n",
    "        \n",
    "    def top_five_score(self):\n",
    "        score_list = list(self.iterable)\n",
    "        score_list.sort(reverse=True)\n",
    "        \n",
    "        return sum(score_list[0:5])\n",
    "    \n",
    "    def top_five_question(self):\n",
    "        score_list = list(self.iterable)\n",
    "        score_list.sort(reverse=True)\n",
    "        \n",
    "        score_nums = []\n",
    "        for i in score_list[0:5]:\n",
    "            score_nums.append(self.iterable.index(i) + 1)\n",
    "            \n",
    "        score_nums.sort()\n",
    "        score_nums = \" \".join(list(map(str, score_nums)))\n",
    "        \n",
    "        return score_nums\n",
    "\n",
    "\n",
    "score = []\n",
    "\n",
    "for i in range(8):\n",
    "    score.append(int(input()))\n",
    "\n",
    "Score = ScoreTopFive(score)\n",
    "print(Score.top_five_score())\n",
    "print(Score.top_five_question())"
   ]
  },
  {
   "cell_type": "markdown",
   "id": "bc88caaf",
   "metadata": {},
   "source": [
    "배열을 정렬하는 것은 쉽다. 수가 주어지면, 그 수의 각 자리수를 내림차순으로 정렬해보자."
   ]
  },
  {
   "cell_type": "code",
   "execution_count": 31,
   "id": "77d24138",
   "metadata": {},
   "outputs": [
    {
     "name": "stdout",
     "output_type": "stream",
     "text": [
      "2143\n",
      "4321\n"
     ]
    }
   ],
   "source": [
    "class SortNum:\n",
    "    def __init__(self, number):\n",
    "        self.number = number\n",
    "        self.__reverse_sort()\n",
    "        \n",
    "    # private method\n",
    "    def __reverse_sort(self):\n",
    "        number = list(str(self.number))\n",
    "        number.sort(reverse=True)\n",
    "        self.number = \"\".join(number)\n",
    "        \n",
    "\n",
    "number = int(input())\n",
    "sortNum = SortNum(number)\n",
    "print(sortNum.number)"
   ]
  },
  {
   "cell_type": "markdown",
   "id": "8a8f5243",
   "metadata": {},
   "source": [
    "양수 A가 N의 진짜 약수가 되려면, N이 A의 배수이고, A가 1과 N이 아니어야 한다. 어떤 수 N의 진짜 약수가 모두 주어질 때, N을 구하는 프로그램을 작성하시오.\n",
    "\n"
   ]
  },
  {
   "cell_type": "code",
   "execution_count": 6,
   "id": "3d2dd397",
   "metadata": {},
   "outputs": [
    {
     "name": "stdout",
     "output_type": "stream",
     "text": [
      "1\n",
      "12\n",
      "[12]\n",
      "144\n"
     ]
    }
   ],
   "source": [
    "class Divisors:\n",
    "    def __init__(self, divisors, length):\n",
    "        divisors.sort()\n",
    "        self.divisors = tuple(divisors)\n",
    "        self.length = length\n",
    "        \n",
    "    def original_num(self):\n",
    "        if self.length % 2 == 1:\n",
    "            # 약수 개수가 홀수\n",
    "            result = self.divisors[(self.length - 1) // 2] ** 2\n",
    "            return result\n",
    "        \n",
    "        elif self.length % 2 == 0:\n",
    "            # 약수 개수가 짝수\n",
    "            result = self.divisors[0] * self.divisors[-1]\n",
    "            return result\n",
    "        \n",
    "\n",
    "divisors_length = int(input())\n",
    "\n",
    "if divisors_length == 1:\n",
    "    divisors = [int(input())]\n",
    "else:\n",
    "    divisors = list(map(int, input().split()))\n",
    "\n",
    "divisors = Divisors(divisors, divisors_length)\n",
    "print(divisors.original_num())"
   ]
  },
  {
   "cell_type": "markdown",
   "id": "a61aa212",
   "metadata": {},
   "source": [
    "왕비를 피해 일곱 난쟁이들과 함께 평화롭게 생활하고 있던 백설공주에게 위기가 찾아왔다. 일과를 마치고 돌아온 난쟁이가 일곱 명이 아닌 아홉 명이었던 것이다.\n",
    "\n",
    "아홉 명의 난쟁이는 모두 자신이 \"백설 공주와 일곱 난쟁이\"의 주인공이라고 주장했다. 뛰어난 수학적 직관력을 가지고 있던 백설공주는, 다행스럽게도 일곱 난쟁이의 키의 합이 100이 됨을 기억해 냈다.\n",
    "\n",
    "아홉 난쟁이의 키가 주어졌을 때, 백설공주를 도와 일곱 난쟁이를 찾는 프로그램을 작성하시오.\n",
    "* object : 난쟁이, 키, 총 합이 100\n"
   ]
  },
  {
   "cell_type": "code",
   "execution_count": 7,
   "id": "07c0f81b",
   "metadata": {},
   "outputs": [
    {
     "ename": "SyntaxError",
     "evalue": "invalid syntax (1989512908.py, line 4)",
     "output_type": "error",
     "traceback": [
      "\u001b[1;36m  Input \u001b[1;32mIn [7]\u001b[1;36m\u001b[0m\n\u001b[1;33m    self.\u001b[0m\n\u001b[1;37m         ^\u001b[0m\n\u001b[1;31mSyntaxError\u001b[0m\u001b[1;31m:\u001b[0m invalid syntax\n"
     ]
    }
   ],
   "source": [
    "class Hobbit:\n",
    "    def __init__(self, heights):\n",
    "        self.heigths = tuple(heights)\n",
    "        \n",
    "    def __Hundred(self):\n",
    "        temp = list(self.heights)\n",
    "        temp.sort()\n",
    "        \n",
    "        "
   ]
  },
  {
   "cell_type": "markdown",
   "id": "f6778448",
   "metadata": {},
   "source": [
    "배열 A가 주어졌을 때, N번째 큰 값을 출력하는 프로그램을 작성하시오.\n",
    "\n",
    "배열 A의 크기는 항상 10이고, 자연수만 가지고 있다. N은 항상 3이다.\n",
    "* object : 배열, 큰 값"
   ]
  },
  {
   "cell_type": "code",
   "execution_count": 15,
   "id": "a8899287",
   "metadata": {},
   "outputs": [
    {
     "name": "stdout",
     "output_type": "stream",
     "text": [
      "1 2 3 4 5 6 7 8 9 1000\n",
      "8\n",
      "338 304 619 95 343 496 489 116 98 127\n",
      "489\n",
      "931 240 986 894 826 640 965 833 136 138\n",
      "931\n",
      "940 955 364 188 133 254 501 122 768 408\n",
      "768\n"
     ]
    }
   ],
   "source": [
    "class HighValue:\n",
    "    def __init__(self, iterable):\n",
    "        self.iterable = tuple(iterable)\n",
    "        \n",
    "    def high_value(self):\n",
    "        temp = list(self.iterable)\n",
    "        temp.sort()\n",
    "        return temp[-3]\n",
    "    \n",
    "    \n",
    "test_case = int(input())\n",
    "\n",
    "for i in range(test_case):\n",
    "    hv = HighValue(list(map(int, input().split())))\n",
    "    print(hv.high_value())\n",
    "    \n",
    "        "
   ]
  },
  {
   "cell_type": "markdown",
   "id": "1d0e69a0",
   "metadata": {},
   "source": [
    "나코더 기장 재민이는 동아리 회식을 준비하기 위해서 장부를 관리하는 중이다.\n",
    "\n",
    "재현이는 재민이를 도와서 돈을 관리하는 중인데, 애석하게도 항상 정신없는 재현이는 돈을 실수로 잘못 부르는 사고를 치기 일쑤였다.\n",
    "\n",
    "재현이는 잘못된 수를 부를 때마다 0을 외쳐서, 가장 최근에 재민이가 쓴 수를 지우게 시킨다.\n",
    "\n",
    "재민이는 이렇게 모든 수를 받아 적은 후 그 수의 합을 알고 싶어 한다. 재민이를 도와주자!\n",
    "* object : 장부"
   ]
  },
  {
   "cell_type": "code",
   "execution_count": 27,
   "id": "affe6256",
   "metadata": {},
   "outputs": [
    {
     "name": "stdout",
     "output_type": "stream",
     "text": [
      "10\n",
      "1\n",
      "3\n",
      "5\n",
      "4\n",
      "0\n",
      "0\n",
      "7\n",
      "0\n",
      "0\n",
      "6\n"
     ]
    },
    {
     "data": {
      "text/plain": [
       "7"
      ]
     },
     "execution_count": 27,
     "metadata": {},
     "output_type": "execute_result"
    }
   ],
   "source": [
    "class AccountBook:\n",
    "    def __init__(self, array):\n",
    "        self.array = tuple(array)\n",
    "        \n",
    "    def correctAccount(self):\n",
    "        temp = list(self.array)\n",
    "        \n",
    "        for i in self.array:\n",
    "            if i == 0:\n",
    "                pivot = temp.index(i) - 1\n",
    "                del temp[pivot]\n",
    "                del temp[pivot]\n",
    "        return sum(temp)\n",
    "    \n",
    "\n",
    "account_num = int(input())\n",
    "accounts = []\n",
    "\n",
    "for i in range(account_num):\n",
    "    accounts.append(int(input()))\n",
    "\n",
    "accounts = AccountBook(accounts)\n",
    "print(accounts.correctAccount())\n"
   ]
  },
  {
   "cell_type": "markdown",
   "id": "fb1ae7ff",
   "metadata": {},
   "source": [
    "한상덕은 이번에 중덕 고등학교에 새로 부임한 교장 선생님이다. 교장 선생님으로서 첫 번째 일은 각 반의 수학 시험 성적의 통계를 내는 일이다.\n",
    "\n",
    "중덕 고등학교 각 반의 학생들의 수학 시험 성적이 주어졌을 때, 최대 점수, 최소 점수, 점수 차이를 구하는 프로그램을 작성하시오.\n",
    "* object : 반, 시험 성적, 최대 점수, 최소 점수, 점수 차이"
   ]
  },
  {
   "cell_type": "code",
   "execution_count": 40,
   "id": "ec43fb60",
   "metadata": {},
   "outputs": [
    {
     "name": "stdout",
     "output_type": "stream",
     "text": [
      "2\n",
      "5 30 25 76 23 78\n",
      "Class 1\n",
      "Max 78, Min 23, Largest gap 46\n",
      "6 25 50 70 99 70 90\n",
      "Class 2\n",
      "Max 99, Min 25, Largest gap 25\n"
     ]
    }
   ],
   "source": [
    "class Class:\n",
    "    class_num = 0\n",
    "    def __init__(self, scores):\n",
    "        self.scores = scores[]\n",
    "        self.max = 0\n",
    "        self.min = 0\n",
    "        self.largest_gap = 0\n",
    "        Class.class_num += 1\n",
    "    \n",
    "    def print_stats(self):\n",
    "        self.__calculate()\n",
    "        print(\"Class {}\".format(self.class_num))\n",
    "        print(\"Max {}, Min {}, Largest gap {}\".format(self.max,\n",
    "                                                     self.min,\n",
    "                                                     self.largest_gap))\n",
    "        \n",
    "    def __calculate(self):\n",
    "        self.scores.sort(reverse=True)\n",
    "        self.max = self.scores[0]\n",
    "        self.min = self.scores[-1]\n",
    "        \n",
    "        self.largest_gap = [0] * len(self.scores)\n",
    "        \n",
    "        for i in range(len(self.scores) - 1):\n",
    "            self.largest_gap[i] = abs(self.scores[i] - self.scores[i + 1])\n",
    "        \n",
    "        self.largest_gap = max(self.largest_gap)\n",
    "    \n",
    "    \n",
    "for i in range(int(input())):\n",
    "    scores = list(map(int, input().split()))\n",
    "    class_score = Class(scores)\n",
    "    class_score.print_stats()\n"
   ]
  },
  {
   "cell_type": "markdown",
   "id": "931145a6",
   "metadata": {},
   "source": [
    "피보나치 수는 0과 1로 시작한다. 0번째 피보나치 수는 0이고, 1번째 피보나치 수는 1이다. 그 다음 2번째 부터는 바로 앞 두 피보나치 수의 합이 된다.\n",
    "\n",
    "이를 식으로 써보면 Fn = Fn-1 + Fn-2 (n ≥ 2)가 된다.\n",
    "\n",
    "n=17일때 까지 피보나치 수를 써보면 다음과 같다.\n",
    "\n",
    "0, 1, 1, 2, 3, 5, 8, 13, 21, 34, 55, 89, 144, 233, 377, 610, 987, 1597\n",
    "\n",
    "n이 주어졌을 때, n번째 피보나치 수를 구하는 프로그램을 작성하시오.\n"
   ]
  },
  {
   "cell_type": "code",
   "execution_count": null,
   "id": "373a0d06",
   "metadata": {},
   "outputs": [],
   "source": [
    "class Fibonacci:\n",
    "    def __init__(self, n):\n",
    "        self.n = n\n",
    "        self.result = self.__calculate()\n",
    "        \n",
    "    def __calculate(self):\n",
    "        from collections import deque\n",
    "        \n",
    "        deq = deque([0, 1])\n",
    "        for i in range(self.n):\n",
    "            deq.append(sum(deq))\n",
    "            deq.popleft()\n",
    "        \n",
    "        return deq[0]\n",
    "        \n",
    "\n",
    "fibonacci = Fibonacci(int(input()))\n",
    "print(fibonacci.result)"
   ]
  },
  {
   "cell_type": "markdown",
   "id": "16fabbb8",
   "metadata": {},
   "source": [
    "준규가 가지고 있는 동전은 총 N종류이고, 각각의 동전을 매우 많이 가지고 있다.\n",
    "\n",
    "동전을 적절히 사용해서 그 가치의 합을 K로 만들려고 한다. 이때 필요한 동전 개수의 최솟값을 구하는 프로그램을 작성하시오."
   ]
  },
  {
   "cell_type": "code",
   "execution_count": 76,
   "id": "4d4842f1",
   "metadata": {},
   "outputs": [
    {
     "name": "stdout",
     "output_type": "stream",
     "text": [
      "10 4200\n",
      "1\n",
      "5\n",
      "10\n",
      "50\n",
      "100\n",
      "500\n",
      "1000\n",
      "5000\n",
      "10000\n",
      "50000\n",
      "deque([50000, 1, 5, 10, 50, 100, 500, 1000, 5000, 10000])\n",
      "0\n",
      "deque([10000, 50000, 1, 5, 10, 50, 100, 500, 1000, 5000])\n",
      "0\n",
      "deque([5000, 10000, 50000, 1, 5, 10, 50, 100, 500, 1000])\n",
      "0\n",
      "deque([1000, 5000, 10000, 50000, 1, 5, 10, 50, 100, 500])\n",
      "4\n",
      "deque([500, 1000, 5000, 10000, 50000, 1, 5, 10, 50, 100])\n",
      "0\n",
      "deque([100, 500, 1000, 5000, 10000, 50000, 1, 5, 10, 50])\n",
      "2\n",
      "deque([50, 100, 500, 1000, 5000, 10000, 50000, 1, 5, 10])\n",
      "0\n",
      "deque([10, 50, 100, 500, 1000, 5000, 10000, 50000, 1, 5])\n",
      "0\n",
      "deque([5, 10, 50, 100, 500, 1000, 5000, 10000, 50000, 1])\n",
      "0\n",
      "deque([1, 5, 10, 50, 100, 500, 1000, 5000, 10000, 50000])\n",
      "0\n",
      "6\n"
     ]
    }
   ],
   "source": [
    "from collections import deque\n",
    "\n",
    "\n",
    "class Coin:\n",
    "    def __init__(self, value, kinds_of_coins):\n",
    "        self.value = value\n",
    "        self.coins = kinds_of_coins\n",
    "\n",
    "    def how_much_coins(self):\n",
    "        count = 0\n",
    "        temp = self.value\n",
    "        high = self.coins\n",
    "\n",
    "        for i in range(len(self.coins)):\n",
    "            high.rotate(1)\n",
    "            solution = temp // high[0]\n",
    "            temp -= high[0] * solution\n",
    "            count += solution\n",
    "        return count\n",
    "\n",
    "\n",
    "deq = deque()\n",
    "coins_num, value = map(int, input().split())\n",
    "\n",
    "for i in range(coins_num):\n",
    "    deq.append(int(input()))\n",
    "coin = Coin(value, deq)\n",
    "print(coin.how_much_coins())\n"
   ]
  },
  {
   "cell_type": "markdown",
   "id": "3aaece86",
   "metadata": {},
   "source": [
    "두 정수 A와 B를 입력받은 다음, A+B를 출력하는 프로그램을 작성하시오."
   ]
  },
  {
   "cell_type": "code",
   "execution_count": 78,
   "id": "300a6ea6",
   "metadata": {},
   "outputs": [
    {
     "name": "stdout",
     "output_type": "stream",
     "text": [
      "1\n",
      "1,1\n",
      "2\n"
     ]
    }
   ],
   "source": [
    "class Addition:\n",
    "    def __init__(self, a, b):\n",
    "        self.a = a\n",
    "        self.b = b\n",
    "        self.result = 0\n",
    "        self.__calculate()\n",
    "    \n",
    "    def __calculate(self):\n",
    "        self.result = self.a + self.b\n",
    "        \n",
    "\n",
    "test_case = int(input())\n",
    "\n",
    "for i in range(test_case):\n",
    "    a, b = map(int, input().split(\",\"))\n",
    "    addition = Addition(a, b)\n",
    "    print(addition.result)\n",
    "    "
   ]
  },
  {
   "cell_type": "markdown",
   "id": "7b10de14",
   "metadata": {},
   "source": [
    "KMP 알고리즘이 KMP인 이유는 이를 만든 사람의 성이 Knuth, Morris, Prett이기 때문이다. 이렇게 알고리즘에는 발견한 사람의 성을 따서 이름을 붙이는 경우가 많다.\n",
    "\n",
    "또 다른 예로, 유명한 비대칭 암호화 알고리즘 RSA는 이를 만든 사람의 이름이 Rivest, Shamir, Adleman이다.\n",
    "\n",
    "사람들은 이렇게 사람 성이 들어간 알고리즘을 두 가지 형태로 부른다.\n",
    "\n",
    "첫 번째는 성을 모두 쓰고, 이를 하이픈(-)으로 이어 붙인 것이다. 예를 들면, Knuth-Morris-Pratt이다. 이것을 긴 형태라고 부른다.\n",
    "두 번째로 짧은 형태는 만든 사람의 성의 첫 글자만 따서 부르는 것이다. 예를 들면, KMP이다.\n",
    "동혁이는 매일매일 자신이 한 일을 모두 메모장에 적어놓는다. 잠을 자기 전에, 오늘 하루 무엇을 했는지 되새겨 보는 것으로 하루를 마감한다.\n",
    "\n",
    "하루는 이 메모를 보던 중, 지금까지 긴 형태와 짧은 형태를 섞어서 적어 놓은 것을 발견했다.\n",
    "\n",
    "이렇게 긴 형태로 하루 일을 기록하다가는 메모장 가격이 부담되어 파산될 것이 뻔하기 때문에, 앞으로는 짧은 형태로 기록하려고 한다.\n",
    "\n",
    "긴 형태의 알고리즘 이름이 주어졌을 때, 이를 짧은 형태로 바꾸어 출력하는 프로그램을 작성하시오."
   ]
  },
  {
   "cell_type": "code",
   "execution_count": 80,
   "id": "a64a3588",
   "metadata": {},
   "outputs": [
    {
     "name": "stdout",
     "output_type": "stream",
     "text": [
      "Knuth-Morris-Pratt\n",
      "KMP\n"
     ]
    }
   ],
   "source": [
    "class  Initialism:\n",
    "    def __init__(self, string):\n",
    "        self.string = string\n",
    "    \n",
    "    def transInitial(self):\n",
    "        from collections import deque\n",
    "        \n",
    "        temp = deque(self.string.split(\"-\"))\n",
    "        result = \"\"\n",
    "        for i in temp:\n",
    "            result += i[0]\n",
    "        return result\n",
    "    \n",
    "\n",
    "string = input()\n",
    "initial = Initialism(string)\n",
    "\n",
    "print(initial.transInitial())"
   ]
  },
  {
   "cell_type": "markdown",
   "id": "01dae244",
   "metadata": {},
   "source": [
    "어떤 수 X가 주어졌을 때, X의 모든 자리수가 역순이 된 수를 얻을 수 있다. Rev(X)를 X의 모든 자리수를 역순으로 만드는 함수라고 하자. 예를 들어, X=123일 때, Rev(X) = 321이다. 그리고, X=100일 때, Rev(X) = 1이다.\n",
    "\n",
    "두 양의 정수 X와 Y가 주어졌을 때, Rev(Rev(X) + Rev(Y))를 구하는 프로그램을 작성하시오"
   ]
  },
  {
   "cell_type": "code",
   "execution_count": 96,
   "id": "9317f417",
   "metadata": {},
   "outputs": [
    {
     "name": "stdout",
     "output_type": "stream",
     "text": [
      "5 5\n",
      "1\n"
     ]
    }
   ],
   "source": [
    "class Reverse:\n",
    "    def __init__(self):\n",
    "        pass\n",
    "    \n",
    "    def rev(self, num):\n",
    "        num = list(str(num))\n",
    "        num.reverse()\n",
    "        num = int(\"\".join(num))\n",
    "        \n",
    "        return num\n",
    "        \n",
    "\n",
    "fst_num, sec_num = map(int, input().split())\n",
    "\n",
    "rev = Reverse()\n",
    "print(rev.rev(rev.rev(fst_num) + rev.rev(sec_num)))\n"
   ]
  },
  {
   "cell_type": "markdown",
   "id": "ee1b409e",
   "metadata": {},
   "source": [
    "알파벳 대소문자로 된 단어가 주어지면, 이 단어에서 가장 많이 사용된 알파벳이 무엇인지 알아내는 프로그램을 작성하시오. 단, 대문자와 소문자를 구분하지 않는다."
   ]
  },
  {
   "cell_type": "code",
   "execution_count": 172,
   "id": "2aeeac5c",
   "metadata": {},
   "outputs": [
    {
     "name": "stdout",
     "output_type": "stream",
     "text": [
      "aabbcccdd\n",
      "C\n"
     ]
    }
   ],
   "source": [
    "class Capital:\n",
    "    def __init__(self, string):\n",
    "        self.string = string\n",
    "        self.cnt = {}\n",
    "        self.cnt_values = []\n",
    "        self.__preprocess()\n",
    "        \n",
    "    def __preprocess(self):\n",
    "        from collections import deque\n",
    "        from collections import Counter\n",
    "        \n",
    "        deq_str = deque(self.string.upper()) # 문자열 리스트화\n",
    "        self.cnt = Counter(deq_str) # 각 알파벳 개수 딕셔너리화\n",
    "        \n",
    "        self.cnt_values = list(self.cnt.values()) # 개수만 추출\n",
    "        self.cnt_values.sort(reverse=True) # 내림차순 정렬\n",
    "        \n",
    "    def high_freq(self):\n",
    "        if self.cnt_values.count(self.cnt_values[0]) >= 2:\n",
    "            return \"?\"\n",
    "        else:\n",
    "            for k, v in self.cnt.items():\n",
    "                if v == self.cnt_values[0]:\n",
    "                    return k\n",
    "        \n",
    "string = input()\n",
    "capital = Capital(string)\n",
    "print(capital.high_freq())"
   ]
  },
  {
   "cell_type": "markdown",
   "id": "66d00ffd",
   "metadata": {},
   "source": [
    "N부터 M까지의 수들을 종이에 적었을 때 종이에 적힌 0들을 세는 프로그램을 작성하라.\n",
    "\n",
    "예를 들어, N, M이 각각 0, 10일 때 0을 세면 0에 하나, 10에 하나가 있으므로 답은 2이다.\n",
    "\n",
    "object : 시작점, 끝점, 0 개수\n",
    "count 함수는 시간복잡도가 O(n). Counter collectios이용."
   ]
  },
  {
   "cell_type": "code",
   "execution_count": 186,
   "id": "157a9c4b",
   "metadata": {},
   "outputs": [
    {
     "name": "stdout",
     "output_type": "stream",
     "text": [
      "1\n",
      "0 10\n"
     ]
    },
    {
     "ename": "ModuleNotFoundError",
     "evalue": "No module named 'collectios'",
     "output_type": "error",
     "traceback": [
      "\u001b[1;31m---------------------------------------------------------------------------\u001b[0m",
      "\u001b[1;31mModuleNotFoundError\u001b[0m                       Traceback (most recent call last)",
      "Input \u001b[1;32mIn [186]\u001b[0m, in \u001b[0;36m<cell line: 21>\u001b[1;34m()\u001b[0m\n\u001b[0;32m     21\u001b[0m \u001b[38;5;28;01mfor\u001b[39;00m i \u001b[38;5;129;01min\u001b[39;00m \u001b[38;5;28mrange\u001b[39m(test_case):\n\u001b[0;32m     22\u001b[0m     start, destination \u001b[38;5;241m=\u001b[39m \u001b[38;5;28mmap\u001b[39m(\u001b[38;5;28mint\u001b[39m, \u001b[38;5;28minput\u001b[39m()\u001b[38;5;241m.\u001b[39msplit())\n\u001b[1;32m---> 23\u001b[0m     \u001b[43mzero\u001b[49m\u001b[38;5;241;43m.\u001b[39;49m\u001b[43mcount_zero\u001b[49m\u001b[43m(\u001b[49m\u001b[43m)\u001b[49m\n\u001b[0;32m     24\u001b[0m     zero \u001b[38;5;241m=\u001b[39m Zero(start, destination)\n\u001b[0;32m     25\u001b[0m     \u001b[38;5;28mprint\u001b[39m(zero\u001b[38;5;241m.\u001b[39mzero)\n",
      "Input \u001b[1;32mIn [182]\u001b[0m, in \u001b[0;36mZero.count_zero\u001b[1;34m(self)\u001b[0m\n\u001b[0;32m      7\u001b[0m \u001b[38;5;28;01mdef\u001b[39;00m \u001b[38;5;21mcount_zero\u001b[39m(\u001b[38;5;28mself\u001b[39m):\n\u001b[1;32m----> 8\u001b[0m     \u001b[38;5;28;01mfrom\u001b[39;00m \u001b[38;5;21;01mcollectios\u001b[39;00m \u001b[38;5;28;01mimport\u001b[39;00m Counter\n\u001b[0;32m     10\u001b[0m     range_ \u001b[38;5;241m=\u001b[39m \u001b[38;5;28mrange\u001b[39m(start, destination \u001b[38;5;241m+\u001b[39m \u001b[38;5;241m1\u001b[39m)\n\u001b[0;32m     11\u001b[0m     string \u001b[38;5;241m=\u001b[39m \u001b[38;5;124m\"\u001b[39m\u001b[38;5;124m\"\u001b[39m\u001b[38;5;241m.\u001b[39mjoin(\u001b[38;5;28mmap\u001b[39m(\u001b[38;5;28mstr\u001b[39m, \u001b[38;5;28mrange\u001b[39m(\u001b[38;5;28mself\u001b[39m\u001b[38;5;241m.\u001b[39mstart, \u001b[38;5;28mself\u001b[39m\u001b[38;5;241m.\u001b[39mdes \u001b[38;5;241m+\u001b[39m \u001b[38;5;241m1\u001b[39m)))\n",
      "\u001b[1;31mModuleNotFoundError\u001b[0m: No module named 'collectios'"
     ]
    }
   ],
   "source": [
    "class Zero:\n",
    "    def __init__(self, start, destination):\n",
    "        self.start = start\n",
    "        self.des = destination\n",
    "        self.zero = 0\n",
    "        \n",
    "    def count_zero(self):\n",
    "        from collections import Counter\n",
    "        \n",
    "        range_ = range(start, destination + 1)\n",
    "        string = \"\".join(map(str, range(self.start, self.des + 1)))\n",
    "        counter = Counter(string)\n",
    "        print(counter)\n",
    "        for k, v in counter.items():\n",
    "            if k == \"0\":\n",
    "                self.zero = v\n",
    "        \n",
    "\n",
    "test_case = int(input())\n",
    "\n",
    "for i in range(test_case):\n",
    "    start, destination = map(int, input().split())\n",
    "    zero.count_zero()\n",
    "    zero = Zero(start, destination)\n",
    "    print(zero.zero)\n",
    "    "
   ]
  },
  {
   "cell_type": "markdown",
   "id": "2cd7dba8",
   "metadata": {},
   "source": [
    "↑클래스를 설계했을 때 내부 함수를 만들어서 생성자에서 미리 초기화 되게끔 설계하면 안좋은 설계인가?\n",
    "\n",
    "ex) 위의 count_zero함수에서 self.zero = v로 설정하는 부분을 constructor에서 self.count_zero()로 호출해서 self.zero를 즉시 초기화시키는 방법은 안좋은가?"
   ]
  },
  {
   "cell_type": "code",
   "execution_count": 180,
   "id": "3548ceb6",
   "metadata": {},
   "outputs": [
    {
     "name": "stdout",
     "output_type": "stream",
     "text": [
      "12345678910\n"
     ]
    }
   ],
   "source": [
    "a = \"\".join(map(str, range(1, 11)))\n",
    "print(a)"
   ]
  }
 ],
 "metadata": {
  "kernelspec": {
   "display_name": "Python 3 (ipykernel)",
   "language": "python",
   "name": "python3"
  },
  "language_info": {
   "codemirror_mode": {
    "name": "ipython",
    "version": 3
   },
   "file_extension": ".py",
   "mimetype": "text/x-python",
   "name": "python",
   "nbconvert_exporter": "python",
   "pygments_lexer": "ipython3",
   "version": "3.10.0"
  }
 },
 "nbformat": 4,
 "nbformat_minor": 5
}
